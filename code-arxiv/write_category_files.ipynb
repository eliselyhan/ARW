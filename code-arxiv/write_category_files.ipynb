{
 "cells": [
  {
   "cell_type": "code",
   "execution_count": null,
   "metadata": {},
   "outputs": [],
   "source": [
    "import pandas as pd\n",
    "\n",
    "# Data:\n",
    "# https://www.kaggle.com/datasets/Cornell-University/arxiv\n",
    "\n",
    "#convert the entire arxiv data to df\n",
    "arxiv_df = pd.read_json('../arxiv_data/categories_json/arxiv-metadata-oai-snapshot.json', lines=True)\n",
    "\n",
    "#read category names:\n",
    "category_names = open(\"../arxiv_data/category_names.txt\", \"r\")\n",
    "\n",
    "for category in category_names:\n",
    "    category = category.strip()\n",
    "\n",
    "    #filter out rows containing the given category\n",
    "    df = arxiv_df[arxiv_df['categories'].apply(lambda x: category in x)]\n",
    "\n",
    "    #write to json file if the df is non-empty\n",
    "    if len(df) > 0:\n",
    "        df.to_json('../arxiv_data/categories_json/{}.json'.format(category), orient='records', lines=True)"
   ]
  }
 ],
 "metadata": {
  "language_info": {
   "name": "python"
  }
 },
 "nbformat": 4,
 "nbformat_minor": 2
}
